{
  "nbformat": 4,
  "nbformat_minor": 0,
  "metadata": {
    "colab": {
      "provenance": []
    },
    "kernelspec": {
      "name": "python3",
      "display_name": "Python 3"
    },
    "language_info": {
      "name": "python"
    }
  },
  "cells": [
    {
      "cell_type": "code",
      "execution_count": null,
      "metadata": {
        "id": "Sicx1Od257Je"
      },
      "outputs": [],
      "source": [
        "from __future__ import print_function"
      ]
    },
    {
      "cell_type": "code",
      "source": [
        "training_data = [\n",
        "    ['Green' , 3 , 'Apple'],\n",
        "    ['Yellow' ,3 ,'Apple'],\n",
        "    ['Red' ,1 , 'Grape'],\n",
        "    ['Red' ,1 ,'Grape'],\n",
        "    ['Yellow' ,3 ,'Lemon']\n",
        "]"
      ],
      "metadata": {
        "id": "QwErnJ459iRK"
      },
      "execution_count": null,
      "outputs": []
    },
    {
      "cell_type": "code",
      "source": [
        "header = ['color' ,'Diameter' ,'Label']"
      ],
      "metadata": {
        "id": "672l6HFI-CGj"
      },
      "execution_count": null,
      "outputs": []
    },
    {
      "cell_type": "code",
      "source": [
        "def unique_values(rows ,col):\n",
        "  return set([row[col] for row in rows])"
      ],
      "metadata": {
        "id": "Z1ZSa2kp-J00"
      },
      "execution_count": null,
      "outputs": []
    },
    {
      "cell_type": "code",
      "source": [
        "unique_values(training_data ,0)"
      ],
      "metadata": {
        "colab": {
          "base_uri": "https://localhost:8080/"
        },
        "id": "WwD9BBQb-j8N",
        "outputId": "2255150f-10de-4957-fb3c-97663164b814"
      },
      "execution_count": null,
      "outputs": [
        {
          "output_type": "execute_result",
          "data": {
            "text/plain": [
              "{'Green', 'Red', 'Yellow'}"
            ]
          },
          "metadata": {},
          "execution_count": 46
        }
      ]
    },
    {
      "cell_type": "code",
      "source": [
        "def class_counts(rows):\n",
        "  counts = {}\n",
        "  for row in rows:\n",
        "    label= row[-1]\n",
        "    if label not in counts:\n",
        "      counts[label] = 0\n",
        "    counts[label] += 1\n",
        "  return counts\n",
        "\n",
        "# def class_counts(rows):\n",
        "#     \"\"\"Counts the number of each type of example in a dataset.\"\"\"\n",
        "#     counts = {}  # a dictionary of label -> count.\n",
        "#     for row in rows:\n",
        "#         # in our dataset format, the label is always the last column\n",
        "#         label = row[-1]\n",
        "#         if label not in counts:\n",
        "#             counts[label] = 0\n",
        "#         counts[label] += 1\n",
        "#     return counts"
      ],
      "metadata": {
        "id": "9Vj1NJWU-qfx"
      },
      "execution_count": null,
      "outputs": []
    },
    {
      "cell_type": "code",
      "source": [
        "def class_counts1(rows):\n",
        "  counts = {}\n",
        "  for row in rows:\n",
        "    label= row[-3]\n",
        "  return label"
      ],
      "metadata": {
        "id": "EZySbVxbyyBv"
      },
      "execution_count": null,
      "outputs": []
    },
    {
      "cell_type": "code",
      "source": [
        "class_counts1(training_data)"
      ],
      "metadata": {
        "colab": {
          "base_uri": "https://localhost:8080/",
          "height": 35
        },
        "id": "g1fYWzxsy3eB",
        "outputId": "76e2f094-b7d4-4120-b988-580d648a1e44"
      },
      "execution_count": null,
      "outputs": [
        {
          "output_type": "execute_result",
          "data": {
            "text/plain": [
              "'Yellow'"
            ],
            "application/vnd.google.colaboratory.intrinsic+json": {
              "type": "string"
            }
          },
          "metadata": {},
          "execution_count": 55
        }
      ]
    },
    {
      "cell_type": "code",
      "source": [
        "for i in training_data:\n",
        "  lab = i[-1]\n",
        "  print(lab)"
      ],
      "metadata": {
        "colab": {
          "base_uri": "https://localhost:8080/"
        },
        "id": "0Nt4zVCzuv8c",
        "outputId": "8aff4a86-9e61-4d13-e1ba-c657b716eae1"
      },
      "execution_count": null,
      "outputs": [
        {
          "output_type": "stream",
          "name": "stdout",
          "text": [
            "Apple\n",
            "Apple\n",
            "Grape\n",
            "Grape\n",
            "Lemon\n"
          ]
        }
      ]
    },
    {
      "cell_type": "code",
      "source": [
        "training_data"
      ],
      "metadata": {
        "colab": {
          "base_uri": "https://localhost:8080/"
        },
        "id": "6e3u_qs_s0mB",
        "outputId": "a299c91e-274b-450b-a804-f9fd156d79a0"
      },
      "execution_count": null,
      "outputs": [
        {
          "output_type": "execute_result",
          "data": {
            "text/plain": [
              "[['Green', 3, 'Apple'],\n",
              " ['Yellow', 3, 'Apple'],\n",
              " ['Red', 1, 'Grape'],\n",
              " ['Red', 1, 'Grape'],\n",
              " ['Yellow', 3, 'Lemon']]"
            ]
          },
          "metadata": {},
          "execution_count": 8
        }
      ]
    },
    {
      "cell_type": "code",
      "source": [
        "class_counts(training_data)"
      ],
      "metadata": {
        "colab": {
          "base_uri": "https://localhost:8080/"
        },
        "id": "yQJwvZxLstoP",
        "outputId": "6c29a568-dc40-46e2-d63a-71ce017ee078"
      },
      "execution_count": null,
      "outputs": [
        {
          "output_type": "execute_result",
          "data": {
            "text/plain": [
              "{'Apple': 2, 'Grape': 2, 'Lemon': 1}"
            ]
          },
          "metadata": {},
          "execution_count": 9
        }
      ]
    },
    {
      "cell_type": "code",
      "source": [
        "def is_numeric(value):\n",
        "  return isinstance(value ,int) or isinstance(value,float)\n",
        "is_numeric(7)"
      ],
      "metadata": {
        "colab": {
          "base_uri": "https://localhost:8080/"
        },
        "id": "SU18usCYstUj",
        "outputId": "4a09f52b-3ee8-472a-b6e9-bb00fd368280"
      },
      "execution_count": null,
      "outputs": [
        {
          "output_type": "execute_result",
          "data": {
            "text/plain": [
              "True"
            ]
          },
          "metadata": {},
          "execution_count": 10
        }
      ]
    },
    {
      "cell_type": "code",
      "source": [
        "class Question:\n",
        "  def __init__(self,column,value):\n",
        "    self.column = column\n",
        "    self.value = value\n",
        "  def match(self,example):\n",
        "    val = example[self.column]\n",
        "    if is_numeric(val):\n",
        "      return val >= self.value\n",
        "    else:\n",
        "      return val == self.value\n",
        "  def __repr__(self):\n",
        "    condition = \"==\"\n",
        "    if is_numeric(self.value):\n",
        "      condition = \">=\"\n",
        "    return \"Is %s %s %s?\" %(\n",
        "        header[self.column] , condition, str(self.value))\n",
        "\n"
      ],
      "metadata": {
        "id": "HSZXXWrjwk4t"
      },
      "execution_count": null,
      "outputs": []
    },
    {
      "cell_type": "code",
      "source": [
        "training_data"
      ],
      "metadata": {
        "colab": {
          "base_uri": "https://localhost:8080/"
        },
        "id": "zWCUjgZJLskX",
        "outputId": "289cb019-4341-4178-ae29-3a037bfd451d"
      },
      "execution_count": null,
      "outputs": [
        {
          "output_type": "execute_result",
          "data": {
            "text/plain": [
              "[['Green', 3, 'Apple'],\n",
              " ['Yellow', 3, 'Apple'],\n",
              " ['Red', 1, 'Grape'],\n",
              " ['Red', 1, 'Grape'],\n",
              " ['Yellow', 3, 'Lemon']]"
            ]
          },
          "metadata": {},
          "execution_count": 12
        }
      ]
    },
    {
      "cell_type": "code",
      "source": [
        "Question(2,0)"
      ],
      "metadata": {
        "id": "mQnJqrVPxHZ-",
        "colab": {
          "base_uri": "https://localhost:8080/"
        },
        "outputId": "f8e6f7f3-7889-408c-ec66-b2d0bc17637d"
      },
      "execution_count": null,
      "outputs": [
        {
          "output_type": "execute_result",
          "data": {
            "text/plain": [
              "Is Label >= 0?"
            ]
          },
          "metadata": {},
          "execution_count": 13
        }
      ]
    },
    {
      "cell_type": "code",
      "source": [
        "q = Question(0 ,'Green')"
      ],
      "metadata": {
        "id": "Epg-V7JJMVXx"
      },
      "execution_count": null,
      "outputs": []
    },
    {
      "cell_type": "code",
      "source": [
        "example = training_data[0]"
      ],
      "metadata": {
        "id": "9Fi2erPPLOO7"
      },
      "execution_count": null,
      "outputs": []
    },
    {
      "cell_type": "code",
      "source": [
        "q.match(example)"
      ],
      "metadata": {
        "colab": {
          "base_uri": "https://localhost:8080/"
        },
        "id": "t5_u39sCMOnK",
        "outputId": "f6d47b1b-6838-4fcb-e701-e4c17327d1b0"
      },
      "execution_count": null,
      "outputs": [
        {
          "output_type": "execute_result",
          "data": {
            "text/plain": [
              "True"
            ]
          },
          "metadata": {},
          "execution_count": 16
        }
      ]
    },
    {
      "cell_type": "code",
      "source": [
        "def partition(rows , question):\n",
        "  true_rows ,false_rows = [],[]\n",
        "  for row in rows:\n",
        "    if question.match(row):\n",
        "      true_rows.append(row)\n",
        "    else:\n",
        "      false_rows.append(row)\n",
        "  return true_rows ,false_rows"
      ],
      "metadata": {
        "id": "2nw76DxXMRlH"
      },
      "execution_count": null,
      "outputs": []
    },
    {
      "cell_type": "code",
      "source": [
        "true_rows ,false_rows = partition(training_data, Question(0,'Red'))\n",
        "true_rows"
      ],
      "metadata": {
        "colab": {
          "base_uri": "https://localhost:8080/"
        },
        "id": "CjjC4OtvNbls",
        "outputId": "888033fb-b058-4974-a2e8-c332348760c3"
      },
      "execution_count": null,
      "outputs": [
        {
          "output_type": "execute_result",
          "data": {
            "text/plain": [
              "[['Red', 1, 'Grape'], ['Red', 1, 'Grape']]"
            ]
          },
          "metadata": {},
          "execution_count": 18
        }
      ]
    },
    {
      "cell_type": "code",
      "source": [
        "false_rows"
      ],
      "metadata": {
        "colab": {
          "base_uri": "https://localhost:8080/"
        },
        "id": "ob5yx0GG98u6",
        "outputId": "f4bb7965-682b-4d46-ec28-9e31c88f2fa7"
      },
      "execution_count": null,
      "outputs": [
        {
          "output_type": "execute_result",
          "data": {
            "text/plain": [
              "[['Green', 3, 'Apple'], ['Yellow', 3, 'Apple'], ['Yellow', 3, 'Lemon']]"
            ]
          },
          "metadata": {},
          "execution_count": 19
        }
      ]
    },
    {
      "cell_type": "code",
      "source": [
        "# def gini(rows):\n",
        "#   counts = class_count(rows)\n",
        "#   impurity = 1\n",
        "#   for lbl in counts:\n",
        "#     prob_of_lbl = counts[lbl]/float(len(rows))\n",
        "#     impurity -= prob_of_lbl**2\n",
        "#   return impurity\n",
        "\n",
        "\n",
        "def gini(rows):\n",
        "    \"\"\"Calculate the Gini Impurity for a list of rows.\n",
        "\n",
        "    There are a few different ways to do this, I thought this one was\n",
        "    the most concise. See:\n",
        "    https://en.wikipedia.org/wiki/Decision_tree_learning#Gini_impurity\n",
        "    \"\"\"\n",
        "    counts = class_counts(rows)\n",
        "    impurity = 1\n",
        "    for lbl in counts:\n",
        "        prob_of_lbl = counts[lbl] / float(len(rows))\n",
        "        impurity -= prob_of_lbl**2\n",
        "    return impurity"
      ],
      "metadata": {
        "id": "cma5LzBx-o0r"
      },
      "execution_count": null,
      "outputs": []
    },
    {
      "cell_type": "code",
      "source": [
        "no_mixing = [['Apple'],\n",
        "              ['Apple']]\n",
        "# this will return 0\n",
        "gini(no_mixing)"
      ],
      "metadata": {
        "colab": {
          "base_uri": "https://localhost:8080/"
        },
        "id": "9PBBl23_-utu",
        "outputId": "20aa3d82-0768-4c2b-ec8c-147e1394fb8f"
      },
      "execution_count": null,
      "outputs": [
        {
          "output_type": "execute_result",
          "data": {
            "text/plain": [
              "0.0"
            ]
          },
          "metadata": {},
          "execution_count": 21
        }
      ]
    },
    {
      "cell_type": "code",
      "source": [
        "some_mixing = [['Apple'],['Orange']]\n",
        "gini(some_mixing)"
      ],
      "metadata": {
        "id": "Ie5mtqayBxr-",
        "colab": {
          "base_uri": "https://localhost:8080/"
        },
        "outputId": "5cd63ba8-9035-47c1-f802-2404454aca04"
      },
      "execution_count": null,
      "outputs": [
        {
          "output_type": "execute_result",
          "data": {
            "text/plain": [
              "0.5"
            ]
          },
          "metadata": {},
          "execution_count": 22
        }
      ]
    },
    {
      "cell_type": "code",
      "source": [
        "lots_of_mixing = [['Apple'],\n",
        "                  ['Orange'],\n",
        "                  ['Grape'],\n",
        "                  ['Grapefruit'],\n",
        "                  ['Blueberry']]\n",
        "\n",
        "gini(lots_of_mixing)"
      ],
      "metadata": {
        "colab": {
          "base_uri": "https://localhost:8080/"
        },
        "id": "uE62PJB5aEcU",
        "outputId": "4f5bd4c6-e982-495a-8b77-479e7cfa3322"
      },
      "execution_count": null,
      "outputs": [
        {
          "output_type": "execute_result",
          "data": {
            "text/plain": [
              "0.7999999999999998"
            ]
          },
          "metadata": {},
          "execution_count": 23
        }
      ]
    },
    {
      "cell_type": "code",
      "source": [
        "def info_gain(left ,right,current_uncertainity):\n",
        "  p = float(len(left)/len(left)+len(right))\n",
        "  return current_uncertainity - p*gini(left) - (1-p) * gini(right)\n"
      ],
      "metadata": {
        "id": "cG58kStCak8R"
      },
      "execution_count": null,
      "outputs": []
    },
    {
      "cell_type": "code",
      "source": [
        "current_uncertainity = gini(training_data)\n",
        "current_uncertainity"
      ],
      "metadata": {
        "colab": {
          "base_uri": "https://localhost:8080/"
        },
        "id": "MJEwjq26a9Q4",
        "outputId": "b0abe9f0-2673-4941-ed64-010ddb7151e9"
      },
      "execution_count": null,
      "outputs": [
        {
          "output_type": "execute_result",
          "data": {
            "text/plain": [
              "0.6399999999999999"
            ]
          },
          "metadata": {},
          "execution_count": 25
        }
      ]
    },
    {
      "cell_type": "code",
      "source": [
        "# true_rows ,false_rows = partition(training_data , Question(0,'Green'))\n",
        "# info_gain(true_rows ,false_rows,current_uncertainity)\n",
        "\n",
        "# How much information do we gain by partioning on 'Green'?\n",
        "true_rows, false_rows = partition(training_data, Question(0, 'Green'))\n",
        "info_gain(true_rows, false_rows, current_uncertainity)"
      ],
      "metadata": {
        "colab": {
          "base_uri": "https://localhost:8080/"
        },
        "id": "6DsiRc_ffHLI",
        "outputId": "0705ac4f-e8df-4726-a3fa-90e97d087922"
      },
      "execution_count": null,
      "outputs": [
        {
          "output_type": "execute_result",
          "data": {
            "text/plain": [
              "3.1399999999999997"
            ]
          },
          "metadata": {},
          "execution_count": 26
        }
      ]
    },
    {
      "cell_type": "code",
      "source": [
        "true_rows , false_rows = partition(training_data , Question(0,'Red'))\n",
        "info_gain(true_rows ,false_rows,current_uncertainity)"
      ],
      "metadata": {
        "colab": {
          "base_uri": "https://localhost:8080/"
        },
        "id": "RW2EG9Bjfe7W",
        "outputId": "d10a4235-8309-4f04-b50e-24490111ed9b"
      },
      "execution_count": null,
      "outputs": [
        {
          "output_type": "execute_result",
          "data": {
            "text/plain": [
              "1.9733333333333334"
            ]
          },
          "metadata": {},
          "execution_count": 27
        }
      ]
    },
    {
      "cell_type": "code",
      "source": [
        "true_rows"
      ],
      "metadata": {
        "colab": {
          "base_uri": "https://localhost:8080/"
        },
        "id": "UmcANRzQgbwL",
        "outputId": "11441e2f-bf8e-4a5a-ff0d-317c9cf5edba"
      },
      "execution_count": null,
      "outputs": [
        {
          "output_type": "execute_result",
          "data": {
            "text/plain": [
              "[['Red', 1, 'Grape'], ['Red', 1, 'Grape']]"
            ]
          },
          "metadata": {},
          "execution_count": 28
        }
      ]
    },
    {
      "cell_type": "code",
      "source": [
        "false_rows"
      ],
      "metadata": {
        "colab": {
          "base_uri": "https://localhost:8080/"
        },
        "id": "Ux012urVgts4",
        "outputId": "93c5ff7c-8a0f-49d2-a809-38c027850985"
      },
      "execution_count": null,
      "outputs": [
        {
          "output_type": "execute_result",
          "data": {
            "text/plain": [
              "[['Green', 3, 'Apple'], ['Yellow', 3, 'Apple'], ['Yellow', 3, 'Lemon']]"
            ]
          },
          "metadata": {},
          "execution_count": 29
        }
      ]
    },
    {
      "cell_type": "code",
      "source": [
        "def find_best_split(rows):\n",
        "  best_gain = 0\n",
        "  best_question = None\n",
        "  current_uncertainity = gini(rows)\n",
        "  n_features = len(rows[0]) - 1\n",
        "\n",
        "  for col in range(n_features):\n",
        "    values = set([row[col] for row in rows])\n",
        "\n",
        "    for val in values:\n",
        "      question = Question(col ,val)\n",
        "      true_rows ,false_rows = partition(rows ,question)\n",
        "\n",
        "      if len(true_rows) == 0 or len(false_rows) == 0:\n",
        "        continue\n",
        "\n",
        "      gain = info_gain(true_rows ,false_rows ,current_uncertainity)\n",
        "\n",
        "      if gain >= best_gain:\n",
        "        best_gain ,best_question = gain ,question\n",
        "  return best_gain ,best_question\n",
        "\n"
      ],
      "metadata": {
        "id": "8l5kDZymgxEC"
      },
      "execution_count": null,
      "outputs": []
    },
    {
      "cell_type": "code",
      "source": [
        "find_best_split(training_data)"
      ],
      "metadata": {
        "colab": {
          "base_uri": "https://localhost:8080/"
        },
        "id": "yigfqC-0xICA",
        "outputId": "82623985-b71f-41ec-f459-976a87bb943e"
      },
      "execution_count": null,
      "outputs": [
        {
          "output_type": "execute_result",
          "data": {
            "text/plain": [
              "(3.1399999999999997, Is color == Green?)"
            ]
          },
          "metadata": {},
          "execution_count": 31
        }
      ]
    },
    {
      "cell_type": "code",
      "source": [
        "class Leaf:\n",
        "  def __init__(self ,rows):\n",
        "    self.predictions = class_counts(rows)\n"
      ],
      "metadata": {
        "id": "5FpInWCyxXZ4"
      },
      "execution_count": null,
      "outputs": []
    },
    {
      "cell_type": "code",
      "source": [
        "class Decision_node:\n",
        "  def __init__(self,question , true_branch,false_branch):\n",
        "    self.question = question\n",
        "    self.true_branch =true_branch\n",
        "    self.false_branch = false_branch\n"
      ],
      "metadata": {
        "id": "ntiX2V2rx25g"
      },
      "execution_count": null,
      "outputs": []
    },
    {
      "cell_type": "code",
      "source": [
        "def build_tree(rows):\n",
        "  gain,question = find_best_split(rows)\n",
        "  if gain == 0:\n",
        "    return Leaf(rows)\n",
        "  true_rows,false_rows  = partition(rows , question)\n",
        "  true_branch = build_tree(true_rows)\n",
        "  false_branch = build_tree(false_rows)\n",
        "  return Decision_node(question ,true_branch , false_branch)\n"
      ],
      "metadata": {
        "id": "Pk8NPFbvgZMV"
      },
      "execution_count": null,
      "outputs": []
    },
    {
      "cell_type": "code",
      "source": [
        "def print_tree(node, spacing = \"\"):\n",
        "  if isinstance(node, Leaf):\n",
        "    print(spacing ,\"+Predict\" ,node.predictions)\n",
        "    return\n",
        "  print(spacing +str(node.question))\n",
        "  print(spacing + '--> True')\n",
        "  print_tree(node.true_branch, spacing + \"  \")\n",
        "  print(spacing + '--> False')\n",
        "  print_tree(node.false_branch ,spacing + \" \")\n"
      ],
      "metadata": {
        "id": "SelwHXP0iHM-"
      },
      "execution_count": null,
      "outputs": []
    },
    {
      "cell_type": "code",
      "source": [
        "my_tree = build_tree(training_data)\n",
        "print_tree(my_tree)"
      ],
      "metadata": {
        "colab": {
          "base_uri": "https://localhost:8080/"
        },
        "id": "sLyICSjxjNys",
        "outputId": "4a30d51d-dac9-41bc-bdfb-cefc8540f6e1"
      },
      "execution_count": null,
      "outputs": [
        {
          "output_type": "stream",
          "name": "stdout",
          "text": [
            "Is color == Green?\n",
            "--> True\n",
            "   +Predict {'Apple': 1}\n",
            "--> False\n",
            " Is color == Red?\n",
            " --> True\n",
            "    +Predict {'Grape': 2}\n",
            " --> False\n",
            "   +Predict {'Apple': 1, 'Lemon': 1}\n"
          ]
        }
      ]
    },
    {
      "cell_type": "code",
      "source": [
        "def classify(row ,node):\n",
        "  if isinstance(node,Leaf):\n",
        "    return node.predictions\n",
        "  if node.question.match(row):\n",
        "    return classify(row,node.true_branch)\n",
        "  else:\n",
        "    return classify(row ,node.false_branch)\n"
      ],
      "metadata": {
        "id": "T9amb3pvjS9n"
      },
      "execution_count": null,
      "outputs": []
    },
    {
      "cell_type": "code",
      "source": [
        "classify(training_data[0] ,my_tree)"
      ],
      "metadata": {
        "colab": {
          "base_uri": "https://localhost:8080/"
        },
        "id": "bom4EUNlstbp",
        "outputId": "a2717cb3-7bbc-4cb2-96f8-fe278dc216e0"
      },
      "execution_count": null,
      "outputs": [
        {
          "output_type": "execute_result",
          "data": {
            "text/plain": [
              "{'Apple': 1}"
            ]
          },
          "metadata": {},
          "execution_count": 39
        }
      ]
    },
    {
      "cell_type": "code",
      "source": [
        "def print_leaf(counts):\n",
        "  total = sum(counts.values())*1.0\n",
        "  probs = {}\n",
        "  for lbl in counts.keys():\n",
        "    probs[lbl] = str(int(counts[lbl]/total*100)) + \"%\"\n",
        "  return probs"
      ],
      "metadata": {
        "id": "s8tQ5XOxsyxc"
      },
      "execution_count": null,
      "outputs": []
    },
    {
      "cell_type": "code",
      "source": [
        "print_leaf(classify(training_data[0] ,my_tree))"
      ],
      "metadata": {
        "colab": {
          "base_uri": "https://localhost:8080/"
        },
        "id": "iT6ak_yWtWbs",
        "outputId": "9bbdb175-a790-4f80-8c60-2d8d4420ee23"
      },
      "execution_count": null,
      "outputs": [
        {
          "output_type": "execute_result",
          "data": {
            "text/plain": [
              "{'Apple': '100%'}"
            ]
          },
          "metadata": {},
          "execution_count": 41
        }
      ]
    },
    {
      "cell_type": "code",
      "source": [
        "print_leaf(classify(training_data[1],my_tree))"
      ],
      "metadata": {
        "colab": {
          "base_uri": "https://localhost:8080/"
        },
        "id": "4K4XTC5utg9y",
        "outputId": "7a92644a-c095-42f2-b88b-244d233a757e"
      },
      "execution_count": null,
      "outputs": [
        {
          "output_type": "execute_result",
          "data": {
            "text/plain": [
              "{'Apple': '50%', 'Lemon': '50%'}"
            ]
          },
          "metadata": {},
          "execution_count": 42
        }
      ]
    },
    {
      "cell_type": "code",
      "source": [
        "# Evaluate\n",
        "testing_data = [\n",
        "    ['Green', 3, 'Apple'],\n",
        "    ['Yellow', 4, 'Apple'],\n",
        "    ['Red', 2, 'Grape'],\n",
        "    ['Red', 1, 'Grape'],\n",
        "    ['Yellow', 3, 'Lemon'],\n",
        "]"
      ],
      "metadata": {
        "id": "I-tI4I_-tnpW"
      },
      "execution_count": null,
      "outputs": []
    },
    {
      "cell_type": "code",
      "source": [
        "for row in testing_data:\n",
        "  print('Actual: %s. predicted: %s' %\n",
        "        (row[-1],print_leaf(classify(row,my_tree))))"
      ],
      "metadata": {
        "colab": {
          "base_uri": "https://localhost:8080/"
        },
        "id": "0BDW1klbtsyI",
        "outputId": "4774dac4-b149-4223-a4aa-d3c421e200e8"
      },
      "execution_count": null,
      "outputs": [
        {
          "output_type": "stream",
          "name": "stdout",
          "text": [
            "Actual: Apple. predicted: {'Apple': '100%'}\n",
            "Actual: Apple. predicted: {'Apple': '50%', 'Lemon': '50%'}\n",
            "Actual: Grape. predicted: {'Grape': '100%'}\n",
            "Actual: Grape. predicted: {'Grape': '100%'}\n",
            "Actual: Lemon. predicted: {'Apple': '50%', 'Lemon': '50%'}\n"
          ]
        }
      ]
    },
    {
      "cell_type": "code",
      "source": [],
      "metadata": {
        "id": "vUtSn5CGuEbb"
      },
      "execution_count": null,
      "outputs": []
    }
  ]
}